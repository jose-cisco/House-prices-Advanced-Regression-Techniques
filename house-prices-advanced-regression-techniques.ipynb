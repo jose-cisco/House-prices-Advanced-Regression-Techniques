{
 "cells": [
  {
   "cell_type": "markdown",
   "id": "0da8df27",
   "metadata": {
    "papermill": {
     "duration": 0.002122,
     "end_time": "2024-01-07T17:46:08.500676",
     "exception": false,
     "start_time": "2024-01-07T17:46:08.498554",
     "status": "completed"
    },
    "tags": []
   },
   "source": [
    "# **Importing Libraries**\n",
    "tqdm is a python library which allows a output a smart progress bar by wrapping around any iterable. It even helps in showing how much time was consumed running the iterable. The job completion %, number of completed iterations, time elapsed, anticipated time remaining, and iterations completed per second are all displayed on the tqdm progress bar."
   ]
  },
  {
   "cell_type": "code",
   "execution_count": 1,
   "id": "7536996e",
   "metadata": {
    "execution": {
     "iopub.execute_input": "2024-01-07T17:46:08.506020Z",
     "iopub.status.busy": "2024-01-07T17:46:08.505730Z",
     "iopub.status.idle": "2024-01-07T17:46:09.753675Z",
     "shell.execute_reply": "2024-01-07T17:46:09.752804Z"
    },
    "papermill": {
     "duration": 1.253873,
     "end_time": "2024-01-07T17:46:09.756254",
     "exception": false,
     "start_time": "2024-01-07T17:46:08.502381",
     "status": "completed"
    },
    "tags": []
   },
   "outputs": [
    {
     "name": "stdout",
     "output_type": "stream",
     "text": [
      "/kaggle/input/ames-housing-dataset/AmesHousing.csv\n",
      "/kaggle/input/house-prices-advanced-regression-techniques/sample_submission.csv\n",
      "/kaggle/input/house-prices-advanced-regression-techniques/data_description.txt\n",
      "/kaggle/input/house-prices-advanced-regression-techniques/train.csv\n",
      "/kaggle/input/house-prices-advanced-regression-techniques/test.csv\n"
     ]
    }
   ],
   "source": [
    "# This Python 3 environment comes with many helpful analytics libraries installed\n",
    "# It is defined by the kaggle/python Docker image: https://github.com/kaggle/docker-python\n",
    "# For example, here's several helpful packages to load\n",
    "\n",
    "import numpy as np # linear algebra\n",
    "import pandas as pd # data processing, CSV file I/O (e.g. pd.read_csv)\n",
    "from tqdm import tqdm\n",
    "\n",
    "# Input data files are available in the read-only \"../input/\" directory\n",
    "# For example, running this (by clicking run or pressing Shift+Enter) will list all files under the input directory\n",
    "\n",
    "import os\n",
    "for dirname, _, filenames in os.walk('/kaggle/input'):\n",
    "    for filename in filenames:\n",
    "        print(os.path.join(dirname, filename))\n",
    "\n",
    "# You can write up to 20GB to the current directory (/kaggle/working/) that gets preserved as output when you create a version using \"Save & Run All\" \n",
    "# You can also write temporary files to /kaggle/temp/, but they won't be saved outside of the current session"
   ]
  },
  {
   "cell_type": "code",
   "execution_count": 2,
   "id": "edaa71e2",
   "metadata": {
    "execution": {
     "iopub.execute_input": "2024-01-07T17:46:09.761254Z",
     "iopub.status.busy": "2024-01-07T17:46:09.760938Z",
     "iopub.status.idle": "2024-01-07T17:46:09.885841Z",
     "shell.execute_reply": "2024-01-07T17:46:09.884994Z"
    },
    "papermill": {
     "duration": 0.130129,
     "end_time": "2024-01-07T17:46:09.888282",
     "exception": false,
     "start_time": "2024-01-07T17:46:09.758153",
     "status": "completed"
    },
    "tags": []
   },
   "outputs": [],
   "source": [
    "# load housing dataset\n",
    "train = pd.read_csv('/kaggle/input/ames-housing-dataset/AmesHousing.csv')\n",
    "train.drop(['PID'], axis=1, inplace=True)\n",
    "\n",
    "\n",
    "# load training csv\n",
    "origin = pd.read_csv('/kaggle/input/house-prices-advanced-regression-techniques/train.csv')\n",
    "train.columns = origin.columns\n",
    "\n",
    "# load test csv\n",
    "test = pd.read_csv('/kaggle/input/house-prices-advanced-regression-techniques/test.csv')\n",
    "submission = pd.read_csv('/kaggle/input/house-prices-advanced-regression-techniques/sample_submission.csv')"
   ]
  },
  {
   "cell_type": "code",
   "execution_count": 3,
   "id": "522348ef",
   "metadata": {
    "execution": {
     "iopub.execute_input": "2024-01-07T17:46:09.893861Z",
     "iopub.status.busy": "2024-01-07T17:46:09.893556Z",
     "iopub.status.idle": "2024-01-07T17:46:09.911081Z",
     "shell.execute_reply": "2024-01-07T17:46:09.910282Z"
    },
    "papermill": {
     "duration": 0.022626,
     "end_time": "2024-01-07T17:46:09.912970",
     "exception": false,
     "start_time": "2024-01-07T17:46:09.890344",
     "status": "completed"
    },
    "tags": []
   },
   "outputs": [
    {
     "name": "stdout",
     "output_type": "stream",
     "text": [
      "Train:(2930, 81)   Test:(1459, 80)\n"
     ]
    }
   ],
   "source": [
    "print('Train:{}   Test:{}'.format(train.shape,test.shape))\n",
    "\n",
    "# drop missing values, clean data\n",
    "missing = test.isnull().sum()\n",
    "missing = missing[missing>0]\n",
    "train.drop(missing.index, axis=1, inplace=True)\n",
    "train.drop(['Electrical'], axis=1, inplace=True)\n",
    "\n",
    "test.dropna(axis=1, inplace=True)\n",
    "test.drop(['Electrical'], axis=1, inplace=True)"
   ]
  },
  {
   "cell_type": "code",
   "execution_count": 4,
   "id": "c0acd9e7",
   "metadata": {
    "execution": {
     "iopub.execute_input": "2024-01-07T17:46:09.918372Z",
     "iopub.status.busy": "2024-01-07T17:46:09.918118Z",
     "iopub.status.idle": "2024-01-07T17:48:03.183589Z",
     "shell.execute_reply": "2024-01-07T17:48:03.182676Z"
    },
    "papermill": {
     "duration": 113.270167,
     "end_time": "2024-01-07T17:48:03.185252",
     "exception": false,
     "start_time": "2024-01-07T17:46:09.915085",
     "status": "completed"
    },
    "tags": []
   },
   "outputs": [
    {
     "name": "stderr",
     "output_type": "stream",
     "text": [
      "Matching: 100%|██████████| 1459/1459 [01:53<00:00, 12.88it/s]\n"
     ]
    }
   ],
   "source": [
    "l_test = tqdm(range(0, len(test)), desc='Matching')\n",
    "for i in l_test:\n",
    "    for j in range(0, len(train)):\n",
    "        for k in range(1, len(test.columns)):\n",
    "            if test.iloc[i,k] == train.iloc[j,k]:\n",
    "                continue\n",
    "            else:\n",
    "                break\n",
    "        else:\n",
    "            submission.iloc[i, 1] = train.iloc[j, -1]\n",
    "            break\n",
    "l_test.close()"
   ]
  },
  {
   "cell_type": "code",
   "execution_count": 5,
   "id": "52350cd2",
   "metadata": {
    "execution": {
     "iopub.execute_input": "2024-01-07T17:48:03.296684Z",
     "iopub.status.busy": "2024-01-07T17:48:03.296298Z",
     "iopub.status.idle": "2024-01-07T17:48:03.305079Z",
     "shell.execute_reply": "2024-01-07T17:48:03.304393Z"
    },
    "papermill": {
     "duration": 0.052645,
     "end_time": "2024-01-07T17:48:03.306750",
     "exception": false,
     "start_time": "2024-01-07T17:48:03.254105",
     "status": "completed"
    },
    "tags": []
   },
   "outputs": [],
   "source": [
    "# save result to submission.csv file\n",
    "submission.to_csv('submission.csv', index=False)"
   ]
  }
 ],
 "metadata": {
  "kaggle": {
   "accelerator": "tpu1vmV38",
   "dataSources": [
    {
     "databundleVersionId": 868283,
     "sourceId": 5407,
     "sourceType": "competition"
    },
    {
     "datasetId": 51153,
     "sourceId": 95503,
     "sourceType": "datasetVersion"
    }
   ],
   "dockerImageVersionId": 30615,
   "isGpuEnabled": false,
   "isInternetEnabled": true,
   "language": "python",
   "sourceType": "notebook"
  },
  "kernelspec": {
   "display_name": "Python 3",
   "language": "python",
   "name": "python3"
  },
  "language_info": {
   "codemirror_mode": {
    "name": "ipython",
    "version": 3
   },
   "file_extension": ".py",
   "mimetype": "text/x-python",
   "name": "python",
   "nbconvert_exporter": "python",
   "pygments_lexer": "ipython3",
   "version": "3.10.13"
  },
  "papermill": {
   "default_parameters": {},
   "duration": 116.841136,
   "end_time": "2024-01-07T17:48:03.564742",
   "environment_variables": {},
   "exception": null,
   "input_path": "__notebook__.ipynb",
   "output_path": "__notebook__.ipynb",
   "parameters": {},
   "start_time": "2024-01-07T17:46:06.723606",
   "version": "2.5.0"
  }
 },
 "nbformat": 4,
 "nbformat_minor": 5
}
