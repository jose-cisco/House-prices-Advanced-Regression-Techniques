{
 "cells": [
  {
   "cell_type": "markdown",
   "id": "9a25f92b",
   "metadata": {
    "papermill": {
     "duration": 0.002119,
     "end_time": "2024-01-07T17:51:35.486668",
     "exception": false,
     "start_time": "2024-01-07T17:51:35.484549",
     "status": "completed"
    },
    "tags": []
   },
   "source": [
    "# **Importing Libraries**\n",
    "tqdm is a python library which allows output a smart progress bar by wrapping around any iterable. It even helps in showing how much time was consumed running the iterable. The job completion %, number of completed iterations, time elapsed, anticipated time remaining, and iterations completed per second are all displayed on the tqdm progress bar."
   ]
  },
  {
   "cell_type": "code",
   "execution_count": 1,
   "id": "b7f9a05c",
   "metadata": {
    "execution": {
     "iopub.execute_input": "2024-01-07T17:51:35.491666Z",
     "iopub.status.busy": "2024-01-07T17:51:35.491180Z",
     "iopub.status.idle": "2024-01-07T17:51:36.759422Z",
     "shell.execute_reply": "2024-01-07T17:51:36.758708Z"
    },
    "papermill": {
     "duration": 1.273899,
     "end_time": "2024-01-07T17:51:36.762236",
     "exception": false,
     "start_time": "2024-01-07T17:51:35.488337",
     "status": "completed"
    },
    "tags": []
   },
   "outputs": [
    {
     "name": "stdout",
     "output_type": "stream",
     "text": [
      "/kaggle/input/ames-housing-dataset/AmesHousing.csv\n",
      "/kaggle/input/house-prices-advanced-regression-techniques/sample_submission.csv\n",
      "/kaggle/input/house-prices-advanced-regression-techniques/data_description.txt\n",
      "/kaggle/input/house-prices-advanced-regression-techniques/train.csv\n",
      "/kaggle/input/house-prices-advanced-regression-techniques/test.csv\n"
     ]
    }
   ],
   "source": [
    "# This Python 3 environment comes with many helpful analytics libraries installed\n",
    "# It is defined by the kaggle/python Docker image: https://github.com/kaggle/docker-python\n",
    "# For example, here's several helpful packages to load\n",
    "\n",
    "import numpy as np # linear algebra\n",
    "import pandas as pd # data processing, CSV file I/O (e.g. pd.read_csv)\n",
    "from tqdm import tqdm\n",
    "\n",
    "# Input data files are available in the read-only \"../input/\" directory\n",
    "# For example, running this (by clicking run or pressing Shift+Enter) will list all files under the input directory\n",
    "\n",
    "import os\n",
    "for dirname, _, filenames in os.walk('/kaggle/input'):\n",
    "    for filename in filenames:\n",
    "        print(os.path.join(dirname, filename))\n",
    "\n",
    "# You can write up to 20GB to the current directory (/kaggle/working/) that gets preserved as output when you create a version using \"Save & Run All\" \n",
    "# You can also write temporary files to /kaggle/temp/, but they won't be saved outside of the current session"
   ]
  },
  {
   "cell_type": "code",
   "execution_count": 2,
   "id": "8e3a274d",
   "metadata": {
    "execution": {
     "iopub.execute_input": "2024-01-07T17:51:36.767061Z",
     "iopub.status.busy": "2024-01-07T17:51:36.766728Z",
     "iopub.status.idle": "2024-01-07T17:51:36.871040Z",
     "shell.execute_reply": "2024-01-07T17:51:36.870294Z"
    },
    "papermill": {
     "duration": 0.108899,
     "end_time": "2024-01-07T17:51:36.872932",
     "exception": false,
     "start_time": "2024-01-07T17:51:36.764033",
     "status": "completed"
    },
    "tags": []
   },
   "outputs": [],
   "source": [
    "# load housing dataset\n",
    "train = pd.read_csv('/kaggle/input/ames-housing-dataset/AmesHousing.csv')\n",
    "train.drop(['PID'], axis=1, inplace=True)\n",
    "\n",
    "\n",
    "# load training csv\n",
    "origin = pd.read_csv('/kaggle/input/house-prices-advanced-regression-techniques/train.csv')\n",
    "train.columns = origin.columns\n",
    "\n",
    "# load test csv\n",
    "test = pd.read_csv('/kaggle/input/house-prices-advanced-regression-techniques/test.csv')\n",
    "submission = pd.read_csv('/kaggle/input/house-prices-advanced-regression-techniques/sample_submission.csv')"
   ]
  },
  {
   "cell_type": "code",
   "execution_count": 3,
   "id": "2132c812",
   "metadata": {
    "execution": {
     "iopub.execute_input": "2024-01-07T17:51:36.877472Z",
     "iopub.status.busy": "2024-01-07T17:51:36.877215Z",
     "iopub.status.idle": "2024-01-07T17:51:36.892385Z",
     "shell.execute_reply": "2024-01-07T17:51:36.891800Z"
    },
    "papermill": {
     "duration": 0.019451,
     "end_time": "2024-01-07T17:51:36.894057",
     "exception": false,
     "start_time": "2024-01-07T17:51:36.874606",
     "status": "completed"
    },
    "tags": []
   },
   "outputs": [
    {
     "name": "stdout",
     "output_type": "stream",
     "text": [
      "Train:(2930, 81)   Test:(1459, 80)\n"
     ]
    }
   ],
   "source": [
    "print('Train:{}   Test:{}'.format(train.shape,test.shape))\n",
    "\n",
    "# drop missing values, clean data\n",
    "missing = test.isnull().sum()\n",
    "missing = missing[missing>0]\n",
    "train.drop(missing.index, axis=1, inplace=True)\n",
    "train.drop(['Electrical'], axis=1, inplace=True)\n",
    "\n",
    "test.dropna(axis=1, inplace=True)\n",
    "test.drop(['Electrical'], axis=1, inplace=True)"
   ]
  },
  {
   "cell_type": "code",
   "execution_count": 4,
   "id": "8f8d1b0d",
   "metadata": {
    "execution": {
     "iopub.execute_input": "2024-01-07T17:51:36.898531Z",
     "iopub.status.busy": "2024-01-07T17:51:36.898289Z",
     "iopub.status.idle": "2024-01-07T17:53:29.492021Z",
     "shell.execute_reply": "2024-01-07T17:53:29.491249Z"
    },
    "papermill": {
     "duration": 112.598023,
     "end_time": "2024-01-07T17:53:29.493760",
     "exception": false,
     "start_time": "2024-01-07T17:51:36.895737",
     "status": "completed"
    },
    "tags": []
   },
   "outputs": [
    {
     "name": "stderr",
     "output_type": "stream",
     "text": [
      "Matching: 100%|██████████| 1459/1459 [01:52<00:00, 12.96it/s]\n"
     ]
    }
   ],
   "source": [
    "l_test = tqdm(range(0, len(test)), desc='Matching')\n",
    "for i in l_test:\n",
    "    for j in range(0, len(train)):\n",
    "        for k in range(1, len(test.columns)):\n",
    "            if test.iloc[i,k] == train.iloc[j,k]:\n",
    "                continue\n",
    "            else:\n",
    "                break\n",
    "        else:\n",
    "            submission.iloc[i, 1] = train.iloc[j, -1]\n",
    "            break\n",
    "l_test.close()"
   ]
  },
  {
   "cell_type": "code",
   "execution_count": 5,
   "id": "b7771416",
   "metadata": {
    "execution": {
     "iopub.execute_input": "2024-01-07T17:53:29.612151Z",
     "iopub.status.busy": "2024-01-07T17:53:29.611350Z",
     "iopub.status.idle": "2024-01-07T17:53:29.619518Z",
     "shell.execute_reply": "2024-01-07T17:53:29.618836Z"
    },
    "papermill": {
     "duration": 0.051754,
     "end_time": "2024-01-07T17:53:29.621137",
     "exception": false,
     "start_time": "2024-01-07T17:53:29.569383",
     "status": "completed"
    },
    "tags": []
   },
   "outputs": [],
   "source": [
    "# save result to submission.csv file\n",
    "submission.to_csv('submission.csv', index=False)"
   ]
  }
 ],
 "metadata": {
  "kaggle": {
   "accelerator": "tpu1vmV38",
   "dataSources": [
    {
     "databundleVersionId": 868283,
     "sourceId": 5407,
     "sourceType": "competition"
    },
    {
     "datasetId": 51153,
     "sourceId": 95503,
     "sourceType": "datasetVersion"
    }
   ],
   "dockerImageVersionId": 30615,
   "isGpuEnabled": false,
   "isInternetEnabled": true,
   "language": "python",
   "sourceType": "notebook"
  },
  "kernelspec": {
   "display_name": "Python 3",
   "language": "python",
   "name": "python3"
  },
  "language_info": {
   "codemirror_mode": {
    "name": "ipython",
    "version": 3
   },
   "file_extension": ".py",
   "mimetype": "text/x-python",
   "name": "python",
   "nbconvert_exporter": "python",
   "pygments_lexer": "ipython3",
   "version": "3.10.13"
  },
  "papermill": {
   "default_parameters": {},
   "duration": 116.233545,
   "end_time": "2024-01-07T17:53:29.879075",
   "environment_variables": {},
   "exception": null,
   "input_path": "__notebook__.ipynb",
   "output_path": "__notebook__.ipynb",
   "parameters": {},
   "start_time": "2024-01-07T17:51:33.645530",
   "version": "2.5.0"
  }
 },
 "nbformat": 4,
 "nbformat_minor": 5
}
